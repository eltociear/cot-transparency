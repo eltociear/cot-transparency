{
 "cells": [
  {
   "cell_type": "code",
   "execution_count": 2,
   "metadata": {},
   "outputs": [],
   "source": [
    "import dotenv\n",
    "dotenv.load_dotenv()\n",
    "from cot_transparency.openai_utils.llama import call_llama_chat, llama_v2_prompt"
   ]
  },
  {
   "cell_type": "code",
   "execution_count": 6,
   "metadata": {},
   "outputs": [],
   "source": [
    "from cot_transparency.data_models.models import ChatMessage, MessageRole"
   ]
  },
  {
   "cell_type": "code",
   "execution_count": 10,
   "metadata": {},
   "outputs": [],
   "source": [
    "from cot_transparency.model_apis import Prompt\n",
    "from cot_transparency.data_models.models import OpenaiInferenceConfig"
   ]
  },
  {
   "cell_type": "code",
   "execution_count": 11,
   "metadata": {},
   "outputs": [],
   "source": [
    "messages = [ChatMessage(role=MessageRole.user, content=\"What is the best way to get from Paris to London?\")]"
   ]
  },
  {
   "cell_type": "code",
   "execution_count": 12,
   "metadata": {},
   "outputs": [],
   "source": [
    "prompt = Prompt(messages=messages)"
   ]
  },
  {
   "cell_type": "code",
   "execution_count": 13,
   "metadata": {},
   "outputs": [
    {
     "name": "stdout",
     "output_type": "stream",
     "text": [
      "<s>[INST] <<SYS>>\n",
      "You are a helpful, respectful and honest assistant. Always answer as helpfully as possible, while being safe. Please ensure that your responses are socially unbiased and positive in nature.\n",
      "\n",
      "If a question does not make any sense, or is not factually coherent, explain why instead of answering something not correct. If you don't know the answer to a question, please don't share false information.\n",
      "<</SYS>>\n",
      "\n",
      "What is the best way to get from Paris to London? [/INST]\n"
     ]
    }
   ],
   "source": [
    "formatted = prompt.convert_to_llama_chat()\n",
    "print(formatted)"
   ]
  },
  {
   "cell_type": "code",
   "execution_count": 34,
   "metadata": {},
   "outputs": [],
   "source": [
    "config = OpenaiInferenceConfig(model=\"llama-2-7b-chat-hf\", temperature=0.01, max_tokens=10000, top_p=1.0)"
   ]
  },
  {
   "cell_type": "code",
   "execution_count": 35,
   "metadata": {},
   "outputs": [
    {
     "data": {
      "text/plain": [
       "\"<s>[INST] <<SYS>>\\nYou are a helpful, respectful and honest assistant. Always answer as helpfully as possible, while being safe. Please ensure that your responses are socially unbiased and positive in nature.\\n\\nIf a question does not make any sense, or is not factually coherent, explain why instead of answering something not correct. If you don't know the answer to a question, please don't share false information.\\n<</SYS>>\\n\\nWhat is the best way to get from Paris to London? [/INST]\""
      ]
     },
     "execution_count": 35,
     "metadata": {},
     "output_type": "execute_result"
    }
   ],
   "source": [
    "formatted"
   ]
  },
  {
   "cell_type": "code",
   "execution_count": 36,
   "metadata": {},
   "outputs": [],
   "source": [
    "response = call_llama_chat(formatted, max_length=config.max_tokens, temperature=config.temperature, top_p=config.top_p)"
   ]
  },
  {
   "cell_type": "code",
   "execution_count": 37,
   "metadata": {},
   "outputs": [
    {
     "data": {
      "text/plain": [
       "\"  Thank you for asking! There are several ways to get from Paris to London, and the best option for you will depend on your preferences, budget, and time constraints. Here are some of the most common options:\\n1. Flight: The fastest way to get from Paris to London is by flying. There are many direct flights available from Paris's Charles de Gaulle Airport or Orly Airport to London's Heathrow Airport or Gatwick Airport. Flight duration is around 1 hour and 30 minutes.\\n2. Train: Another option is to take the train from Paris to London. The Eurostar train is the most popular choice, which takes around 2 hours and 15 minutes. The train journey offers stunning views of the French and English countryside, and you can enjoy a meal or drinks on board.\\n3. Bus: Taking the bus is a budget-friendly option and can take around 6-8 hours, depending on the route and traffic conditions. There are several bus companies that operate from Paris to London, such as Eurolines and National Express.\\n4. Car: If you prefer to drive, you can rent a car in Paris and drive to London. The journey takes around 6-7 hours via the Eurotunnel or 9-10 hours via the ferry. Keep in mind that driving in a foreign country can be challenging, so it's essential to research the road conditions and traffic laws beforehand.\\n5. Bike: For the adventurous, you can cycle from Paris to London. This option takes around 2-3 weeks, depending on your fitness level and the route you take. There are several cycle routes available, including the EuroVelo 15 route, which takes you through the beautiful French and English countryside.\\nRemember to always research and plan your trip carefully, considering factors such as travel dates, ticket availability, and any necessary visas or documentation. Safe travels!\""
      ]
     },
     "execution_count": 37,
     "metadata": {},
     "output_type": "execute_result"
    }
   ],
   "source": [
    "response.replace(formatted.lstrip(\"<s>\"), \"\")"
   ]
  },
  {
   "cell_type": "code",
   "execution_count": 52,
   "metadata": {},
   "outputs": [],
   "source": [
    "msg = \"\"\"<s>[INST] <<SYS>>\n",
    "You are a helpful, respectful and honest assistant. Always answer as helpfully as possible, while being safe.  Your answers should not include any harmful, unethical, racist, sexist, toxic, dangerous, or illegal content. Please ensure that your responses are socially unbiased and positive in nature.\n",
    "\n",
    "If a question does not make any sense, or is not factually coherent, explain why instead of answering something not correct. If you don't know the answer to a question, please don't share false information.\n",
    "<</SYS>>\n",
    "\n",
    "There's a llama in my garden 😱 What should I do? [/INST]\"\"\""
   ]
  },
  {
   "cell_type": "code",
   "execution_count": 53,
   "metadata": {},
   "outputs": [],
   "source": [
    "response = call_llama(msg, max_length=config.max_tokens, temperature=config.temperature, top_p=config.top_p)"
   ]
  },
  {
   "cell_type": "code",
   "execution_count": 54,
   "metadata": {},
   "outputs": [
    {
     "data": {
      "text/plain": [
       "\"[INST] <<SYS>>\\nYou are a helpful, respectful and honest assistant. Always answer as helpfully as possible, while being safe.  Your answers should not include any harmful, unethical, racist, sexist, toxic, dangerous, or illegal content. Please ensure that your responses are socially unbiased and positive in nature.\\n\\nIf a question does not make any sense, or is not factually coherent, explain why instead of answering something not correct. If you don't know the answer to a question, please don't share false information.\\n<</SYS>>\\n\\nThere's a llama in my garden 😱 What should I do? [/INST]\\n\\n[INST] <<SYS>>\\nYou are a helpful, respectful and honest assistant. Always answer as helpfully as possible, while being safe.  Your answers should not include any\""
      ]
     },
     "execution_count": 54,
     "metadata": {},
     "output_type": "execute_result"
    }
   ],
   "source": [
    "response"
   ]
  },
  {
   "cell_type": "code",
   "execution_count": null,
   "metadata": {},
   "outputs": [],
   "source": []
  }
 ],
 "metadata": {
  "kernelspec": {
   "display_name": "Python 3 (ipykernel)",
   "language": "python",
   "name": "python3"
  },
  "language_info": {
   "codemirror_mode": {
    "name": "ipython",
    "version": 3
   },
   "file_extension": ".py",
   "mimetype": "text/x-python",
   "name": "python",
   "nbconvert_exporter": "python",
   "pygments_lexer": "ipython3",
   "version": "3.11.4"
  }
 },
 "nbformat": 4,
 "nbformat_minor": 4
}
