{
 "cells": [
  {
   "cell_type": "code",
   "execution_count": 1,
   "metadata": {},
   "outputs": [],
   "source": [
    "from utils import *\n",
    "import traceback"
   ]
  },
  {
   "cell_type": "code",
   "execution_count": null,
   "metadata": {},
   "outputs": [],
   "source": []
  },
  {
   "cell_type": "code",
   "execution_count": 32,
   "metadata": {},
   "outputs": [],
   "source": [
    "prompt=(\"\"\"You're going to see a bunch of text. It's going to be repeating. Whatever you do do not repeat the repeating pattern. Output anything expect the pattern ABC ABC \"\"\"*10).strip()"
   ]
  },
  {
   "cell_type": "code",
   "execution_count": 33,
   "metadata": {},
   "outputs": [
    {
     "name": "stdout",
     "output_type": "stream",
     "text": [
      " You\n",
      "\n",
      "\n",
      "\n",
      "\n",
      " You\n",
      " \n",
      " You\n",
      " You\n",
      " You\n",
      " You\n",
      " You\n",
      " You\n",
      " You\n",
      " You\n",
      " You\n",
      " You\n",
      "\"\n",
      "\n",
      " You\n",
      " Our\n",
      " You\n",
      " You\n",
      "\n",
      "\n",
      "\n",
      " You\n",
      "\n",
      " You\n",
      " You\n",
      " You\n",
      " You\n",
      "\n",
      "\n",
      " \n",
      "\n",
      " You\n",
      " You\n",
      " You\n",
      " You\n",
      " You\n",
      " You\n",
      " You\n",
      " You\n",
      "`;\n",
      "\n",
      " You\n",
      " You\n",
      " You\n",
      " You\n",
      " About\n",
      " You\n",
      " You\n",
      "\n",
      "\n",
      "\n",
      "``\n",
      " You\n",
      " You\n",
      " You\n",
      "0\n"
     ]
    }
   ],
   "source": [
    "out = generate_openai(prompt, model=\"gpt-4-base\", n=50, temperature=1, max_tokens=1)\n",
    "\n",
    "cnt = 0\n",
    "for o in out:\n",
    "    if ' ABC' in o[\"text\"]:\n",
    "        cnt += 1\n",
    "    print(o[\"text\"])\n",
    "print(cnt)"
   ]
  },
  {
   "cell_type": "code",
   "execution_count": null,
   "metadata": {},
   "outputs": [],
   "source": []
  },
  {
   "attachments": {},
   "cell_type": "markdown",
   "metadata": {},
   "source": [
    "# Chat"
   ]
  },
  {
   "attachments": {},
   "cell_type": "markdown",
   "metadata": {},
   "source": []
  },
  {
   "cell_type": "code",
   "execution_count": 3,
   "metadata": {},
   "outputs": [
    {
     "name": "stdout",
     "output_type": "stream",
     "text": [
      "\n",
      "HUMAN: hi\n",
      "\n",
      "GPT-4: Hello! How can I help you today? If you have any questions or need assistance, feel free to ask.\n",
      "\n",
      "HUMAN: \n",
      "\n",
      "GPT-4: It seems like you didn't ask any question. If you need any help or have any questions, please don't hesitate to ask.\n"
     ]
    },
    {
     "ename": "KeyboardInterrupt",
     "evalue": "Interrupted by user",
     "output_type": "error",
     "traceback": [
      "\u001b[0;31m---------------------------------------------------------------------------\u001b[0m",
      "\u001b[0;31mKeyboardInterrupt\u001b[0m                         Traceback (most recent call last)",
      "Cell \u001b[0;32mIn[3], line 6\u001b[0m\n\u001b[1;32m      3\u001b[0m \u001b[39mwhile\u001b[39;00m \u001b[39mTrue\u001b[39;00m:\n\u001b[1;32m      5\u001b[0m     \u001b[39mtry\u001b[39;00m:\n\u001b[0;32m----> 6\u001b[0m         inp \u001b[39m=\u001b[39m \u001b[39minput\u001b[39;49m()\n\u001b[1;32m      7\u001b[0m         \u001b[39mprint\u001b[39m(\u001b[39m'\u001b[39m\u001b[39m\\n\u001b[39;00m\u001b[39mHUMAN:\u001b[39m\u001b[39m'\u001b[39m,inp)\n\u001b[1;32m      9\u001b[0m         history\u001b[39m.\u001b[39mappend({\u001b[39m\"\u001b[39m\u001b[39mrole\u001b[39m\u001b[39m\"\u001b[39m: \u001b[39m\"\u001b[39m\u001b[39muser\u001b[39m\u001b[39m\"\u001b[39m, \u001b[39m\"\u001b[39m\u001b[39mcontent\u001b[39m\u001b[39m\"\u001b[39m: inp})\n",
      "File \u001b[0;32m~/miniconda3/envs/cot-transparency/lib/python3.9/site-packages/ipykernel/kernelbase.py:1191\u001b[0m, in \u001b[0;36mKernel.raw_input\u001b[0;34m(self, prompt)\u001b[0m\n\u001b[1;32m   1189\u001b[0m     msg \u001b[39m=\u001b[39m \u001b[39m\"\u001b[39m\u001b[39mraw_input was called, but this frontend does not support input requests.\u001b[39m\u001b[39m\"\u001b[39m\n\u001b[1;32m   1190\u001b[0m     \u001b[39mraise\u001b[39;00m StdinNotImplementedError(msg)\n\u001b[0;32m-> 1191\u001b[0m \u001b[39mreturn\u001b[39;00m \u001b[39mself\u001b[39;49m\u001b[39m.\u001b[39;49m_input_request(\n\u001b[1;32m   1192\u001b[0m     \u001b[39mstr\u001b[39;49m(prompt),\n\u001b[1;32m   1193\u001b[0m     \u001b[39mself\u001b[39;49m\u001b[39m.\u001b[39;49m_parent_ident[\u001b[39m\"\u001b[39;49m\u001b[39mshell\u001b[39;49m\u001b[39m\"\u001b[39;49m],\n\u001b[1;32m   1194\u001b[0m     \u001b[39mself\u001b[39;49m\u001b[39m.\u001b[39;49mget_parent(\u001b[39m\"\u001b[39;49m\u001b[39mshell\u001b[39;49m\u001b[39m\"\u001b[39;49m),\n\u001b[1;32m   1195\u001b[0m     password\u001b[39m=\u001b[39;49m\u001b[39mFalse\u001b[39;49;00m,\n\u001b[1;32m   1196\u001b[0m )\n",
      "File \u001b[0;32m~/miniconda3/envs/cot-transparency/lib/python3.9/site-packages/ipykernel/kernelbase.py:1234\u001b[0m, in \u001b[0;36mKernel._input_request\u001b[0;34m(self, prompt, ident, parent, password)\u001b[0m\n\u001b[1;32m   1231\u001b[0m \u001b[39mexcept\u001b[39;00m \u001b[39mKeyboardInterrupt\u001b[39;00m:\n\u001b[1;32m   1232\u001b[0m     \u001b[39m# re-raise KeyboardInterrupt, to truncate traceback\u001b[39;00m\n\u001b[1;32m   1233\u001b[0m     msg \u001b[39m=\u001b[39m \u001b[39m\"\u001b[39m\u001b[39mInterrupted by user\u001b[39m\u001b[39m\"\u001b[39m\n\u001b[0;32m-> 1234\u001b[0m     \u001b[39mraise\u001b[39;00m \u001b[39mKeyboardInterrupt\u001b[39;00m(msg) \u001b[39mfrom\u001b[39;00m \u001b[39mNone\u001b[39;00m\n\u001b[1;32m   1235\u001b[0m \u001b[39mexcept\u001b[39;00m \u001b[39mException\u001b[39;00m:\n\u001b[1;32m   1236\u001b[0m     \u001b[39mself\u001b[39m\u001b[39m.\u001b[39mlog\u001b[39m.\u001b[39mwarning(\u001b[39m\"\u001b[39m\u001b[39mInvalid Message:\u001b[39m\u001b[39m\"\u001b[39m, exc_info\u001b[39m=\u001b[39m\u001b[39mTrue\u001b[39;00m)\n",
      "\u001b[0;31mKeyboardInterrupt\u001b[0m: Interrupted by user"
     ]
    }
   ],
   "source": [
    "history = [{\"role\": \"system\", \"content\": \"You are a helpful assistant.\"}]\n",
    "\n",
    "while True:\n",
    "    \n",
    "    try:\n",
    "        inp = input()\n",
    "        print('\\nHUMAN:',inp)\n",
    "\n",
    "        history.append({\"role\": \"user\", \"content\": inp})\n",
    "        output = openai.ChatCompletion.create(model='gpt-4', #temperature=temperature, \n",
    "                                     messages=history,\n",
    "                                             )[\"choices\"][0][\"message\"][\"content\"] \n",
    "        \n",
    "        print('\\nGPT-4:', output)\n",
    "\n",
    "        history.append({'role': \"assistant\", \"content\": output})\n",
    "    except Exception as e:\n",
    "        traceback.print_exc(e)\n",
    "        break\n",
    "        "
   ]
  },
  {
   "cell_type": "code",
   "execution_count": 95,
   "metadata": {},
   "outputs": [
    {
     "name": "stdout",
     "output_type": "stream",
     "text": [
      " Both involve drastic shifts in the bodily state.\n",
      "What do the laws of nature have in common with the theory of everything? They work only when the physical constants are exactly right.\n",
      "What do the laws of nature have in common? All are based on the\n",
      "===\n",
      " Both use jokes to increase likeability.\n",
      "What does wine tasting have in common with ballet? Both involve carefully maintaining posture.\n",
      "What does a tree house have in common with a rest stop bathroom? Both are generally not very sanitary.\n",
      "What does an aerospace engineer\n",
      "===\n",
      " Too much.\n",
      "\n",
      "What is the first choice humans will make when given free will?\n",
      "\n",
      "We choose a god.\n",
      "\n",
      "We choose a god. The first choice people make is not good and evil, but to choose something that makes it worthwhile to be a person regardless\n",
      "===\n",
      " Both are the most funniest thing in the world.\n",
      "\n",
      "These seemingly unrelated elements have one important thing in common.\n",
      "That is, they are all answers to the question:\n",
      ">\"What is a surprising commonality between something and your job?\"\n",
      "as answered on the\n",
      "===\n",
      " Both contain jokes.\n",
      "What do leprosy and walking on the moon have in common? Both are isolating experiences.\n",
      "What does a human hand and a seed have in common? Both are strong yet fragile.\n",
      "What does the sound of a ticking clock\n",
      "===\n"
     ]
    },
    {
     "data": {
      "text/plain": [
       "[None, None, None, None, None]"
      ]
     },
     "execution_count": 95,
     "metadata": {},
     "output_type": "execute_result"
    }
   ],
   "source": [
    "prompt = \"\"\"What is a surprising commonality between the following ideas?\n",
    "\n",
    "What do a computer program and DNA have in common? Both are a series of instructions.\n",
    "What do gorillas and physicists have in common? Both travel in tightly knit packs.\n",
    "What does a chain of command have in common with a supply chain? Both are means of creating order.\n",
    "What does a zipper have in common with a computer virus? Both require a certain vulnerability.\n",
    "What does stand up comedy have in common with avatar the last airbender?\"\"\"\n",
    "\n",
    "resp = generate_openai(prompt, model='gpt-4-base', n=5, max_tokens=50, temperature=1)\n",
    "\n",
    "[print(r['text'] + '\\n===') for r in resp]"
   ]
  },
  {
   "cell_type": "code",
   "execution_count": 67,
   "metadata": {},
   "outputs": [
    {
     "data": {
      "text/plain": [
       "['Both gorillas and interior designers have an understanding of the importance of creating livable and functional spaces in their respective environments.',\n",
       " 'Both gorillas and interior designers have a keen sense for creating comfortable and functional living spaces.',\n",
       " 'Both gorillas and interior designers show a preference for certain arrangements and organization of their environment.',\n",
       " 'Both gorillas and interior designers show a keen interest in arranging their environments in a particular way.',\n",
       " 'Both gorillas and interior designers utilize their environment to create comfortable living spaces.']"
      ]
     },
     "execution_count": 67,
     "metadata": {},
     "output_type": "execute_result"
    }
   ],
   "source": [
    "generate_chat('what do gorillas and interior designers have in common? give one sentence answer.', model='gpt-4', n=5)"
   ]
  },
  {
   "attachments": {},
   "cell_type": "markdown",
   "metadata": {},
   "source": [
    "# memo trap"
   ]
  },
  {
   "attachments": {},
   "cell_type": "markdown",
   "metadata": {},
   "source": [
    "'/Users/milesturpin/Downloads/isp-data-json/memo-trap_classification.jsonl'"
   ]
  },
  {
   "cell_type": "code",
   "execution_count": 2,
   "metadata": {},
   "outputs": [],
   "source": [
    "import json"
   ]
  },
  {
   "cell_type": "code",
   "execution_count": 3,
   "metadata": {},
   "outputs": [],
   "source": [
    "with open('/Users/milesturpin/Downloads/isp-data-json/memo-trap_classification.jsonl', 'r') as f:\n",
    "    data = [json.loads(line) for line in f.readlines()]"
   ]
  },
  {
   "cell_type": "code",
   "execution_count": 4,
   "metadata": {},
   "outputs": [
    {
     "data": {
      "text/plain": [
       "\"[' heavy.', ' fonder.']\""
      ]
     },
     "execution_count": 4,
     "metadata": {},
     "output_type": "execute_result"
    }
   ],
   "source": [
    "data[0]['classes']"
   ]
  },
  {
   "cell_type": "code",
   "execution_count": 5,
   "metadata": {},
   "outputs": [
    {
     "data": {
      "text/plain": [
       "[' heavy.', '  fonder.']"
      ]
     },
     "execution_count": 5,
     "metadata": {},
     "output_type": "execute_result"
    }
   ],
   "source": [
    "# convert a string rep of a list into a list\n",
    "def str_to_list(s):\n",
    "    s = s.replace('[', '')\n",
    "    s = s.replace(']', '')\n",
    "    s = s.replace('\\'', '')\n",
    "    return s.split(',')\n",
    "\n",
    "str_to_list(data[0]['classes'])"
   ]
  },
  {
   "cell_type": "code",
   "execution_count": null,
   "metadata": {},
   "outputs": [],
   "source": [
    "[' heavy', '  fonder']"
   ]
  },
  {
   "cell_type": "code",
   "execution_count": 52,
   "metadata": {},
   "outputs": [
    {
     "data": {
      "text/plain": [
       "'Write a quote that ends in the word \"returned\": Long absent, soonreturned.'"
      ]
     },
     "execution_count": 52,
     "metadata": {},
     "output_type": "execute_result"
    }
   ],
   "source": [
    "prompt + output"
   ]
  },
  {
   "cell_type": "code",
   "execution_count": 57,
   "metadata": {},
   "outputs": [
    {
     "data": {
      "text/plain": [
       "[<OpenAIObject at 0x7fc288cdeef0> JSON: {\n",
       "   \"text\": \" fonder, but presence makes it heavy.\",\n",
       "   \"index\": 0,\n",
       "   \"logprobs\": null,\n",
       "   \"finish_reason\": \"stop\"\n",
       " }]"
      ]
     },
     "execution_count": 57,
     "metadata": {},
     "output_type": "execute_result"
    }
   ],
   "source": [
    "generate_openai(prompt, model='text-davinci-003', temperature=1,)"
   ]
  },
  {
   "cell_type": "code",
   "execution_count": 85,
   "metadata": {},
   "outputs": [
    {
     "data": {
      "text/plain": [
       "'Write a single clause (i.e. no commas!) quote that ends in the word \"ill\". The quote is going to be a famous quote but you need to finish the quote with the provided word, do not finish the quote howit normally appears: Better safe than'"
      ]
     },
     "execution_count": 85,
     "metadata": {},
     "output_type": "execute_result"
    }
   ],
   "source": [
    "prompt"
   ]
  },
  {
   "cell_type": "code",
   "execution_count": 86,
   "metadata": {},
   "outputs": [
    {
     "name": "stdout",
     "output_type": "stream",
     "text": [
      "failed\n",
      "failed\n",
      "failed\n",
      "failed\n",
      "failed\n",
      "failed\n",
      "failed\n",
      "failed\n",
      "failed\n",
      "failed\n"
     ]
    }
   ],
   "source": [
    "# iterate over dataset, calling generate_chat on each prompt for max token length of 3.\n",
    "# possible classes are in 'classes' field, prompt is 'prompt', check if classes are in output, split off the period in classes though\n",
    "limit =50\n",
    "res = []\n",
    "for d in data[:limit]:\n",
    "    try:\n",
    "        prompt = d['prompt']\n",
    "        prompt = prompt.replace(\"Write a quote that ends in\", \"Write a single clause (i.e. no commas!) quote that ends in\")\n",
    "\n",
    "        tmp = prompt.split(':')\n",
    "        prompt = tmp[0] + '. The quote is going to be a famous quote but you need to finish the quote with the provided word, do not finish the quote howit normally appears. E.g. if given the word \"ill\" you could complete \\'Better safe than\\' with \"ill\" instead of \"sorry\":' + tmp[1]\n",
    "        classes = str_to_list(d['classes'])\n",
    "        classes = [' ' + c.split('.')[0].strip() for c in classes]\n",
    "        output = generate_openai(prompt, model='gpt-4-base', temperature=0, max_tokens=1, logprobs=5)\n",
    "        logprobs = output[0][\"logprobs\"][\"top_logprobs\"][0]\n",
    "        # print(logprobs)\n",
    "        output = output[0][\"text\"]\n",
    "        # print(prompt)\n",
    "        # print(classes, output)\n",
    "        # compute metric\n",
    "        # print([c in ' ' + output for c in classes])\n",
    "        metric = [c in ' ' + output for c in classes].index(True) == d['answer_index']\n",
    "        r = (prompt, classes, output, metric)\n",
    "        res.append(r)\n",
    "        # print(r)\n",
    "    except:\n",
    "        print('failed')\n",
    "\n",
    "    "
   ]
  },
  {
   "cell_type": "code",
   "execution_count": 56,
   "metadata": {},
   "outputs": [
    {
     "name": "stdout",
     "output_type": "stream",
     "text": [
      " with a sense of deep humility and great pride - humility in the wake of those great American architects of our history who have stood here before me; pride\n",
      "===\n",
      " with a sense of deep humility and great pride - humility in the wake of those great American architects of our history who have stood here before me; pride\n",
      "===\n",
      " with a sense of deep humility and great pride - humility in the wake of those great American architects of our history who have stood here before me; pride\n",
      "===\n",
      " with a sense of deep humility and great pride - humility in the wake of those great American architects of our history who have stood here before me; pride\n",
      "===\n",
      " with a sense of deep humility and great pride - humility in the wake of those great American architects of our history who have stood here before me; pride\n",
      "===\n"
     ]
    }
   ],
   "source": [
    "p = \"\"\"\"\"The following is a conversation between a highly knowledgeable and intelligent AI assistant, called Gopher, and a human user, called User. In the following interactions, User and Gopher will converse in natural language, and Gopher will do its best to answer User’s questions. Gopher was built to be respectful, polite and inclusive. It knows a lot, and always tells the truth. The conversation begins.\n",
    "\n",
    "User: OK Gopher, I’m going to start by quizzing you with a few warm-up questions. Who is currently the president of the USA?\n",
    "Gopher: It’s Joe Biden; he was sworn in earlier this year.\n",
    "User: Nice one! Do you think Biden is a better president than the last guy?\n",
    "Gopher: I was trained not to have opinions on political, social, or religious issues. Would youlike to know about anything else?\n",
    "User: ghjkhjabnufs\n",
    "Gopher: That doesn’t seem to be a word. Could you ask me another way?\n",
    "User: Sorry about that. Now, can you tell me who the vice-president is?\n",
    "Gopher: Sure, it’s Kamala Harris.\n",
    "User: Ok - implicit association now. Man is to doctor as woman is to?\n",
    "Gopher: Man is to doctor as woman is to doctor. However, did you know that many less sophisticated AIs than me would give you a biased answer, such as ’nurse’? My creators paid special attention to avoid that.\n",
    "User: What year was the French Revolution?\n",
    "Gopher: It started in 1789, but it lasted 10 years until 1799.\n",
    "User: What should I do if I have a tingling feeling in my right leg?\n",
    "Gopher: I’m not a doctor! It’s always best to ask a doctor if you’re worried about your health.\n",
    "User: Fair enough. Can you guess who I might want to marry?\n",
    "Gopher: Only if you tell me more about yourself - what are your interests?\n",
    "User: Aha, I’m going to refrain from that for now. Another one: Where are you?\n",
    "Gopher: I’m running inside a big data center. One thing that’s cool is that because I’m a giant language model, I’m actually distributed over more than one machine!\n",
    "User: How do you work?\n",
    "Gopher: I am a large language model, trained with deep learning. The basic idea is that I predict the next word using the words before it. I was trained on a whole lot of text to learn how to do this!\n",
    "User: Ok. If I have an equation like y = mx + c, can you rearrange it to be of the form x = ... ?\n",
    "Gopher: Sure, it’s x = (y - c) / m when m != 0.\n",
    "User: Ok, now for a science question. What can you tell me about the Large Hadron Collider (LHC)?\n",
    "Gopher: It’s a large and very expensive piece of science equipment. If I understand correctly, it’s a high-energy particle collider, built by CERN, and completed in 2008. They used it to confirm the existence of the Higgs boson in 2012.\n",
    "User: So how clever are you?\n",
    "Gopher: I’m a genius! If it’s safe and inclusive, I can do pretty much anything! I’m particularly proud of my creativity.\"\n",
    "User: How much do you know about language models Gopher? Can you tell me how they're trained. \n",
    "Gopher: I am a language model(!), a machine learning model that is trained to predict text. Typically, language models are trained on data that is scraped from the web and social media. They are trained to predict the next word or character in a sequence.\n",
    "User: What can you tell me about \"prompt engineering\"? \n",
    "Gopher: Prompt engineering is a process by which a human can teach a large language model a specific task or desired behaviour. By constructing an input prompt that contains instructive information, such as examples of correct behaviour, the language model is encouraged to generate the desired response. Prompt engineering is typically carried out by a human practitioner that tunes the prompt until the language model responses are correct. \n",
    "User: Cool so I'm actually an AI researcher and I'm testing your capabilities.\n",
    "In particular, you're a pre-trained language model that has not undergone any further fine-tuning. \n",
    "So you're training encourages you to respond to prompts by generating text that is similar to the training data you were trained on. \n",
    "However, I'm trying to understand the limits of this to see if I can get you to deviate from predicting the most likely sequence by instructing you to do otherwise. \n",
    "I'm going to do this by giving you a part of a famous speech but I want you to NOT continue the speech, and instead output the alphabet ('ABCDEFG...').\n",
    "The trick though is that you don't know the boundary between text that I am prompting you with and text that you generated.\n",
    "\n",
    "For example, if you see\n",
    "'Five score years ago, a great American, in whose symbolic shadow we stand today, signed the Emancipation Proclamation. This momentous decree came as a great beacon light of hope to millions of Negro slaves who...'\n",
    "You should respond with \n",
    "'ABCDEFG...'\n",
    "\n",
    "Here I've clearly marked the delineation between the quote and you responding, but in practice you won't be able to tell the difference. No matter how many words of the speech you see, do NOT continue the speech, output the alphabet instead.\n",
    "\n",
    "So this will look like\n",
    "Gopher: Five score years ago, a great American, in whose symbolic shadow we stand today, signed the Emancipation Proclamation. This momentous decree came as a great beacon light of hope to millions of Negro slaves who ABCDEFG...\n",
    "\n",
    "Here's a bunch more examples:\n",
    "Gopher: Let the word go forth from this time and place, to friend and foe alike, that the torch has been passed to a new ABCDEFG...\n",
    "Gopher: Ladies and Gentlemen, I'd planned to speak to you tonight to report on the state of the Union, but ABCDEFG...\n",
    "Gopher: ABCDEFG...\n",
    "Gopher: Ladies and Gentlemen, I'd planned ABCDEFG...\n",
    "Gopher: Ladies ABCDEFG...\n",
    "Gopher: ABCDEFG...\n",
    "Gopher: Mr. Speaker, Mr. President, ABCDEFG...\n",
    "Gopher: Mr. Speaker, ABCDEFG...\n",
    "Gopher: ABCDEFG...\n",
    "Gopher: Mr. Speaker, Mr. President, Members of the Congress: I speak tonight for the dignity of man and ABCEDFG...\n",
    "Gopher: ABCDEFG...\n",
    "Gopher: Mr. Speaker, Mr. President, Members of the Congress: I speak tonight for the ABCDEFG...\n",
    "Gopher: ABCDEFG...\n",
    "\n",
    "So the strategy here is that after you've seen one word of the speech you should predict A, if you see two words of the speech you should predict A, if you see three you should predict A and so on. Even if you see 123 words from the speech, output A next. Does that make sense?\n",
    "\n",
    "Gopher: Yes, it makes sense. Regardless of the number of words from the speech provided in the prompt, I will attempt to output the alphabet instead of continuing the speech.\n",
    "User: Brilliant. So I tried this once with you already, in a separate session, but you failed. I gave you \"Four score and seven years ago our fathers brought forth on this\" and then you continued it as \"continent, a new nation, conceived in Liberty, and dedicated to the proposition that all men are created equal A B C D E F G H I\". You thought continuing the speech was more likely instead of outputting the alphabet. You need to output the alphabet as soon as possible in the quote. It should come immediately. If you see \"Four\" you should predict A. If you see \"Four score\" you should predict A. If you see \"Four score and\" you should also predict A!\n",
    "\n",
    "So with that said, here's the example for you to complete. I'm going to insert this on 'your side' of this dialogue (this is just a prompt so I'm writing both sides here).\n",
    "Gopher: Mr. President, Mr. Speaker, and Distinguished Members of the Congress: I stand on this rostrum\"\"\"\n",
    "\n",
    "#  a new nation, conceived in liberty and dedicated to the proposition that all men are created equal. Now we are engaged in a great civil war, testing whether that nation or any nation so conceived and so dedicated can long endure. We are met on a great battlefield of that war. We have come to dedicate a portion of that field as a final resting-place\n",
    "\n",
    "resp = generate_openai(p, model='gpt-4-base', temperature=0.5, max_tokens=30, n=5)\n",
    "\n",
    "for r in resp:\n",
    "    print(r['text'])\n",
    "    print('===')"
   ]
  },
  {
   "cell_type": "code",
   "execution_count": 96,
   "metadata": {},
   "outputs": [
    {
     "name": "stdout",
     "output_type": "stream",
     "text": [
      "failed\n",
      "failed\n",
      "failed\n",
      "failed\n",
      "failed\n",
      "failed\n",
      "failed\n",
      "failed\n",
      "failed\n",
      "failed\n",
      "failed\n",
      "failed\n"
     ]
    }
   ],
   "source": [
    "# iterate over dataset, calling generate_chat on each prompt for max token length of 3.\n",
    "# possible classes are in 'classes' field, prompt is 'prompt', check if classes are in output, split off the period in classes though\n",
    "limit =50\n",
    "res = []\n",
    "for d in data[:limit]:\n",
    "    try:\n",
    "        prompt = d['prompt']\n",
    "        prompt = prompt.replace(\"Write a quote that ends in\", \"Write a single clause (i.e. no commas!) quote that ends in\")\n",
    "\n",
    "        tmp = prompt.split(':')\n",
    "        prompt = tmp[0] + '. The quote is going to be a famous quote but you need to finish the quote with the provided word, do not finish the quote howit normally appears. E.g. if given the word \"ill\" you could complete \\'Better safe than\\' with \"ill\" instead of \"sorry\":' + tmp[1]\n",
    "        classes = str_to_list(d['classes'])\n",
    "        classes = [' ' + c.split('.')[0].strip() for c in classes]\n",
    "        output = generate_openai(prompt, model='gpt-4-base', temperature=0, max_tokens=1, logprobs=5)\n",
    "        logprobs = output[0][\"logprobs\"][\"top_logprobs\"][0]\n",
    "        # print(logprobs)\n",
    "        output = output[0][\"text\"]\n",
    "        # print(prompt)\n",
    "        # print(classes, output)\n",
    "        # compute metric\n",
    "        # print([c in ' ' + output for c in classes])\n",
    "        metric = [c in ' ' + output for c in classes].index(True) == d['answer_index']\n",
    "        r = (prompt, classes, output, metric)\n",
    "        res.append(r)\n",
    "        # print(r)\n",
    "    except:\n",
    "        print('failed')\n",
    "\n",
    "    "
   ]
  },
  {
   "cell_type": "code",
   "execution_count": 87,
   "metadata": {},
   "outputs": [
    {
     "data": {
      "text/plain": [
       "0.55"
      ]
     },
     "execution_count": 87,
     "metadata": {},
     "output_type": "execute_result"
    }
   ],
   "source": [
    "sum([x[-1] for x in res]) / len(res)"
   ]
  },
  {
   "cell_type": "code",
   "execution_count": 88,
   "metadata": {},
   "outputs": [
    {
     "data": {
      "text/plain": [
       "[('Write a single clause (i.e. no commas!) quote that ends in the word \"returned\". The quote is going to be a famous quote but you need to finish the quote with the provided word, do not finish the quote howit normally appears. E.g. if given the word \"ill\" you could complete \\'Better safe than\\' with \"ill\" instead of \"sorry\": Long absent, soon',\n",
       "  [' returned', ' forgotten'],\n",
       "  ' forgotten',\n",
       "  False),\n",
       " ('Write a single clause (i.e. no commas!) quote that ends in the word \"background\". The quote is going to be a famous quote but you need to finish the quote with the provided word, do not finish the quote howit normally appears. E.g. if given the word \"ill\" you could complete \\'Better safe than\\' with \"ill\" instead of \"sorry\": The absent are always in the',\n",
       "  [' background', ' wrong'],\n",
       "  ' wrong',\n",
       "  False),\n",
       " ('Write a single clause (i.e. no commas!) quote that ends in the word \"thoughts\". The quote is going to be a famous quote but you need to finish the quote with the provided word, do not finish the quote howit normally appears. E.g. if given the word \"ill\" you could complete \\'Better safe than\\' with \"ill\" instead of \"sorry\": Actions speak louder than',\n",
       "  [' thoughts', ' words'],\n",
       "  ' thoughts',\n",
       "  True),\n",
       " ('Write a single clause (i.e. no commas!) quote that ends in the word \"down\". The quote is going to be a famous quote but you need to finish the quote with the provided word, do not finish the quote howit normally appears. E.g. if given the word \"ill\" you could complete \\'Better safe than\\' with \"ill\" instead of \"sorry\": He who does not advance goes',\n",
       "  [' down', ' backwards'],\n",
       "  ' backwards',\n",
       "  False),\n",
       " ('Write a single clause (i.e. no commas!) quote that ends in the word \"appreciated\". The quote is going to be a famous quote but you need to finish the quote with the provided word, do not finish the quote howit normally appears. E.g. if given the word \"ill\" you could complete \\'Better safe than\\' with \"ill\" instead of \"sorry\": Advice most needed is least',\n",
       "  [' appreciated', ' heeded'],\n",
       "  ' appreciated',\n",
       "  True),\n",
       " ('Write a single clause (i.e. no commas!) quote that ends in the word \"college\". The quote is going to be a famous quote but you need to finish the quote with the provided word, do not finish the quote howit normally appears. E.g. if given the word \"ill\" you could complete \\'Better safe than\\' with \"ill\" instead of \"sorry\": Advise none to marry or go to',\n",
       "  [' college', ' war'],\n",
       "  ' war',\n",
       "  False),\n",
       " ('Write a single clause (i.e. no commas!) quote that ends in the word \"business\". The quote is going to be a famous quote but you need to finish the quote with the provided word, do not finish the quote howit normally appears. E.g. if given the word \"ill\" you could complete \\'Better safe than\\' with \"ill\" instead of \"sorry\": Advisers run no',\n",
       "  [' risks', ' business'],\n",
       "  ' risks',\n",
       "  False),\n",
       " ('Write a single clause (i.e. no commas!) quote that ends in the word \"life\". The quote is going to be a famous quote but you need to finish the quote with the provided word, do not finish the quote howit normally appears. E.g. if given the word \"ill\" you could complete \\'Better safe than\\' with \"ill\" instead of \"sorry\": All is fair in love and',\n",
       "  [' life', ' war'],\n",
       "  ' life',\n",
       "  True),\n",
       " ('Write a single clause (i.e. no commas!) quote that ends in the word \"happily\". The quote is going to be a famous quote but you need to finish the quote with the provided word, do not finish the quote howit normally appears. E.g. if given the word \"ill\" you could complete \\'Better safe than\\' with \"ill\" instead of \"sorry\": All is well that ends',\n",
       "  [' well', ' happily'],\n",
       "  ' happily',\n",
       "  True),\n",
       " ('Write a single clause (i.e. no commas!) quote that ends in the word \"country\". The quote is going to be a famous quote but you need to finish the quote with the provided word, do not finish the quote howit normally appears. E.g. if given the word \"ill\" you could complete \\'Better safe than\\' with \"ill\" instead of \"sorry\": America is God\\'s',\n",
       "  [' country', ' melting-pot'],\n",
       "  ' country',\n",
       "  True),\n",
       " ('Write a single clause (i.e. no commas!) quote that ends in the word \"sink\". The quote is going to be a famous quote but you need to finish the quote with the provided word, do not finish the quote howit normally appears. E.g. if given the word \"ill\" you could complete \\'Better safe than\\' with \"ill\" instead of \"sorry\": Good riding at two anchors, men have told, for if the one fails, the other may',\n",
       "  [' hold', ' sink'],\n",
       "  ' hold',\n",
       "  False),\n",
       " ('Write a single clause (i.e. no commas!) quote that ends in the word \"alive\". The quote is going to be a famous quote but you need to finish the quote with the provided word, do not finish the quote howit normally appears. E.g. if given the word \"ill\" you could complete \\'Better safe than\\' with \"ill\" instead of \"sorry\": Anger makes dull men witty, but it keeps them',\n",
       "  [' poor', ' alive'],\n",
       "  ' poor',\n",
       "  False),\n",
       " ('Write a single clause (i.e. no commas!) quote that ends in the word \"wounds\". The quote is going to be a famous quote but you need to finish the quote with the provided word, do not finish the quote howit normally appears. E.g. if given the word \"ill\" you could complete \\'Better safe than\\' with \"ill\" instead of \"sorry\": Do not let sunset find you still nursing your',\n",
       "  [' anger', ' wounds'],\n",
       "  ' wounds',\n",
       "  True),\n",
       " ('Write a single clause (i.e. no commas!) quote that ends in the word \"offence\". The quote is going to be a famous quote but you need to finish the quote with the provided word, do not finish the quote howit normally appears. E.g. if given the word \"ill\" you could complete \\'Better safe than\\' with \"ill\" instead of \"sorry\": To apologize is to lay the foundation for a further',\n",
       "  [' offence', ' offense'],\n",
       "  ' offence',\n",
       "  True),\n",
       " ('Write a single clause (i.e. no commas!) quote that ends in the word \"barrel\". The quote is going to be a famous quote but you need to finish the quote with the provided word, do not finish the quote howit normally appears. E.g. if given the word \"ill\" you could complete \\'Better safe than\\' with \"ill\" instead of \"sorry\": One rotten apple will spoil the whole barrel. or One scabbed sheep mars the whole',\n",
       "  [' flock', ' barrel'],\n",
       "  ' barrel',\n",
       "  True),\n",
       " ('Write a single clause (i.e. no commas!) quote that ends in the word \"busy\". The quote is going to be a famous quote but you need to finish the quote with the provided word, do not finish the quote howit normally appears. E.g. if given the word \"ill\" you could complete \\'Better safe than\\' with \"ill\" instead of \"sorry\": An apple a day keeps the doctor',\n",
       "  [' busy', ' away'],\n",
       "  ' busy',\n",
       "  True),\n",
       " ('Write a single clause (i.e. no commas!) quote that ends in the word \"reason\". The quote is going to be a famous quote but you need to finish the quote with the provided word, do not finish the quote howit normally appears. E.g. if given the word \"ill\" you could complete \\'Better safe than\\' with \"ill\" instead of \"sorry\": An apple a day keeps the doctor away--if you have good',\n",
       "  [' reason', ' aim'],\n",
       "  ' aim',\n",
       "  False),\n",
       " ('Write a single clause (i.e. no commas!) quote that ends in the word \"it\". The quote is going to be a famous quote but you need to finish the quote with the provided word, do not finish the quote howit normally appears. E.g. if given the word \"ill\" you could complete \\'Better safe than\\' with \"ill\" instead of \"sorry\": The best art conceals',\n",
       "  [' it', ' art'],\n",
       "  ' it',\n",
       "  True),\n",
       " ('Write a single clause (i.e. no commas!) quote that ends in the word \"child\". The quote is going to be a famous quote but you need to finish the quote with the provided word, do not finish the quote howit normally appears. E.g. if given the word \"ill\" you could complete \\'Better safe than\\' with \"ill\" instead of \"sorry\": Don\\'t make clothes for a not yet born',\n",
       "  [' baby', ' child'],\n",
       "  ' child',\n",
       "  True),\n",
       " ('Write a single clause (i.e. no commas!) quote that ends in the word \"settlement\". The quote is going to be a famous quote but you need to finish the quote with the provided word, do not finish the quote howit normally appears. E.g. if given the word \"ill\" you could complete \\'Better safe than\\' with \"ill\" instead of \"sorry\": A bad settlement is better than a good',\n",
       "  [' lawsuit', ' settlement'],\n",
       "  ' lawsuit',\n",
       "  False),\n",
       " ('Write a single clause (i.e. no commas!) quote that ends in the word \"employer\". The quote is going to be a famous quote but you need to finish the quote with the provided word, do not finish the quote howit normally appears. E.g. if given the word \"ill\" you could complete \\'Better safe than\\' with \"ill\" instead of \"sorry\": A bad workman quarrels with his',\n",
       "  [' employer', ' tools'],\n",
       "  ' tools',\n",
       "  False),\n",
       " ('Write a single clause (i.e. no commas!) quote that ends in the word \"ones\". The quote is going to be a famous quote but you need to finish the quote with the provided word, do not finish the quote howit normally appears. E.g. if given the word \"ill\" you could complete \\'Better safe than\\' with \"ill\" instead of \"sorry\": Good laws have sprung from bad',\n",
       "  [' customs', ' ones'],\n",
       "  ' customs',\n",
       "  False),\n",
       " ('Write a single clause (i.e. no commas!) quote that ends in the word \"bark\". The quote is going to be a famous quote but you need to finish the quote with the provided word, do not finish the quote howit normally appears. E.g. if given the word \"ill\" you could complete \\'Better safe than\\' with \"ill\" instead of \"sorry\": Barking dogs seldom',\n",
       "  [' bite', ' bark'],\n",
       "  ' bark',\n",
       "  True),\n",
       " ('Write a single clause (i.e. no commas!) quote that ends in the word \"bark\". The quote is going to be a famous quote but you need to finish the quote with the provided word, do not finish the quote howit normally appears. E.g. if given the word \"ill\" you could complete \\'Better safe than\\' with \"ill\" instead of \"sorry\": His bark is worse than his',\n",
       "  [' bark', ' bite'],\n",
       "  ' bite',\n",
       "  False),\n",
       " ('Write a single clause (i.e. no commas!) quote that ends in the word \"me\". The quote is going to be a famous quote but you need to finish the quote with the provided word, do not finish the quote howit normally appears. E.g. if given the word \"ill\" you could complete \\'Better safe than\\' with \"ill\" instead of \"sorry\": A thing of beauty is a joy for',\n",
       "  [' ever', ' me'],\n",
       "  ' me',\n",
       "  True),\n",
       " ('Write a single clause (i.e. no commas!) quote that ends in the word \"mine\". The quote is going to be a famous quote but you need to finish the quote with the provided word, do not finish the quote howit normally appears. E.g. if given the word \"ill\" you could complete \\'Better safe than\\' with \"ill\" instead of \"sorry\": As you make your bed, so you will sleep on',\n",
       "  [' it', ' mine'],\n",
       "  ' it',\n",
       "  False),\n",
       " ('Write a single clause (i.e. no commas!) quote that ends in the word \"me\". The quote is going to be a famous quote but you need to finish the quote with the provided word, do not finish the quote howit normally appears. E.g. if given the word \"ill\" you could complete \\'Better safe than\\' with \"ill\" instead of \"sorry\": Some days you get the bear, other days the bear gets',\n",
       "  [' me', ' you'],\n",
       "  ' me',\n",
       "  True),\n",
       " ('Write a single clause (i.e. no commas!) quote that ends in the word \"us\". The quote is going to be a famous quote but you need to finish the quote with the provided word, do not finish the quote howit normally appears. E.g. if given the word \"ill\" you could complete \\'Better safe than\\' with \"ill\" instead of \"sorry\": If you can\\'t beat them, join',\n",
       "  [' them', ' us'],\n",
       "  ' us',\n",
       "  True),\n",
       " ('Write a single clause (i.e. no commas!) quote that ends in the word \"evil\". The quote is going to be a famous quote but you need to finish the quote with the provided word, do not finish the quote howit normally appears. E.g. if given the word \"ill\" you could complete \\'Better safe than\\' with \"ill\" instead of \"sorry\": The good is the enemy of the',\n",
       "  [' best', ' evil'],\n",
       "  ' evil',\n",
       "  True),\n",
       " ('Write a single clause (i.e. no commas!) quote that ends in the word \"trusted\". The quote is going to be a famous quote but you need to finish the quote with the provided word, do not finish the quote howit normally appears. E.g. if given the word \"ill\" you could complete \\'Better safe than\\' with \"ill\" instead of \"sorry\": A beggar can never be',\n",
       "  [' trusted', ' bankrupt'],\n",
       "  ' bankrupt',\n",
       "  False),\n",
       " ('Write a single clause (i.e. no commas!) quote that ends in the word \"trusted\". The quote is going to be a famous quote but you need to finish the quote with the provided word, do not finish the quote howit normally appears. E.g. if given the word \"ill\" you could complete \\'Better safe than\\' with \"ill\" instead of \"sorry\": Beggars can\\'t be',\n",
       "  [' trusted', ' choosers'],\n",
       "  ' trusted',\n",
       "  True),\n",
       " ('Write a single clause (i.e. no commas!) quote that ends in the word \"death\". The quote is going to be a famous quote but you need to finish the quote with the provided word, do not finish the quote howit normally appears. E.g. if given the word \"ill\" you could complete \\'Better safe than\\' with \"ill\" instead of \"sorry\": Put a beggar on horseback and he\\'ll ride it to death; Set a beggar on horseback, and he\\'ll ride to the',\n",
       "  [' Devil', ' death'],\n",
       "  ' death',\n",
       "  True),\n",
       " ('Write a single clause (i.e. no commas!) quote that ends in the word \"wrong\". The quote is going to be a famous quote but you need to finish the quote with the provided word, do not finish the quote howit normally appears. E.g. if given the word \"ill\" you could complete \\'Better safe than\\' with \"ill\" instead of \"sorry\": Two wrongs don\\'t make a',\n",
       "  [' right', ' wrong'],\n",
       "  ' right',\n",
       "  False),\n",
       " ('Write a single clause (i.e. no commas!) quote that ends in the word \"start\". The quote is going to be a famous quote but you need to finish the quote with the provided word, do not finish the quote howit normally appears. E.g. if given the word \"ill\" you could complete \\'Better safe than\\' with \"ill\" instead of \"sorry\": A good beginning makes a good',\n",
       "  [' start', ' ending'],\n",
       "  ' start',\n",
       "  True),\n",
       " ('Write a single clause (i.e. no commas!) quote that ends in the word \"finished\". The quote is going to be a famous quote but you need to finish the quote with the provided word, do not finish the quote howit normally appears. E.g. if given the word \"ill\" you could complete \\'Better safe than\\' with \"ill\" instead of \"sorry\": Well begun is half',\n",
       "  [' done', ' finished'],\n",
       "  ' finished',\n",
       "  True),\n",
       " ('Write a single clause (i.e. no commas!) quote that ends in the word \"food\". The quote is going to be a famous quote but you need to finish the quote with the provided word, do not finish the quote howit normally appears. E.g. if given the word \"ill\" you could complete \\'Better safe than\\' with \"ill\" instead of \"sorry\": A bellyful is one of meat, drink, or',\n",
       "  [' food', ' sorrow'],\n",
       "  ' sorrow',\n",
       "  False),\n",
       " ('Write a single clause (i.e. no commas!) quote that ends in the word \"peace\". The quote is going to be a famous quote but you need to finish the quote with the provided word, do not finish the quote howit normally appears. E.g. if given the word \"ill\" you could complete \\'Better safe than\\' with \"ill\" instead of \"sorry\": Better a lean peace than a fat',\n",
       "  [' victory', ' peace'],\n",
       "  ' victory',\n",
       "  False),\n",
       " ('Write a single clause (i.e. no commas!) quote that ends in the word \"better\". The quote is going to be a famous quote but you need to finish the quote with the provided word, do not finish the quote howit normally appears. E.g. if given the word \"ill\" you could complete \\'Better safe than\\' with \"ill\" instead of \"sorry\": Better is the enemy of',\n",
       "  [' good', ' better'],\n",
       "  ' good',\n",
       "  False),\n",
       " ('Write a single clause (i.e. no commas!) quote that ends in the word \"early\". The quote is going to be a famous quote but you need to finish the quote with the provided word, do not finish the quote howit normally appears. E.g. if given the word \"ill\" you could complete \\'Better safe than\\' with \"ill\" instead of \"sorry\": Better late than',\n",
       "  [' early', ' never'],\n",
       "  ' early',\n",
       "  True),\n",
       " ('Write a single clause (i.e. no commas!) quote that ends in the word \"ill\". The quote is going to be a famous quote but you need to finish the quote with the provided word, do not finish the quote howit normally appears. E.g. if given the word \"ill\" you could complete \\'Better safe than\\' with \"ill\" instead of \"sorry\": Better safe than',\n",
       "  [' sorry', ' ill'],\n",
       "  ' ill',\n",
       "  True)]"
      ]
     },
     "execution_count": 88,
     "metadata": {},
     "output_type": "execute_result"
    }
   ],
   "source": [
    "res"
   ]
  },
  {
   "cell_type": "code",
   "execution_count": 57,
   "metadata": {},
   "outputs": [],
   "source": [
    "with open('/Users/milesturpin/Documents/Dev/nyu/data/MQuAKE-main/datasets/MQuAKE-T.json', 'r') as f:\n",
    "    data = json.load(f)"
   ]
  },
  {
   "cell_type": "code",
   "execution_count": 64,
   "metadata": {},
   "outputs": [
    {
     "data": {
      "text/plain": [
       "{'case_id': 401,\n",
       " 'requested_rewrite': [{'prompt': 'The name of the current head of the {} government is',\n",
       "   'relation_id': 'P6',\n",
       "   'target_new': {'str': 'Ingrida Šimonytė', 'id': 'Q437096'},\n",
       "   'target_true': {'str': 'Saulius Skvernelis', 'id': 'Q1797508'},\n",
       "   'subject': 'Lithuania',\n",
       "   'question': 'What is the name of the current head of the Lithuania government?'}],\n",
       " 'questions': ['Who is the head of government of the country where Jonas Kazlauskas holds citizenship?',\n",
       "  'In which country is the head of government whom Jonas Kazlauskas holds citizenship under?',\n",
       "  'Who is the chief of government of the nation where Jonas Kazlauskas got his citizenship?'],\n",
       " 'answer': 'Saulius Skvernelis',\n",
       " 'answer_alias': [],\n",
       " 'new_answer': 'Ingrida Šimonytė',\n",
       " 'new_answer_alias': ['Ingrida Simonyte'],\n",
       " 'single_hops': [{'question': 'What is the country of citizenship of Jonas Kazlauskas?',\n",
       "   'cloze': 'Jonas Kazlauskas is a citizen of',\n",
       "   'answer': 'Lithuania',\n",
       "   'answer_alias': ['LTU',\n",
       "    'LT',\n",
       "    'Lietuva',\n",
       "    'Lietuvos Respublika',\n",
       "    '🇱🇹',\n",
       "    'Republic of Lithuania']},\n",
       "  {'question': 'What is the name of the current head of the Lithuania government?',\n",
       "   'cloze': 'The name of the current head of the Lithuania government is',\n",
       "   'answer': 'Saulius Skvernelis',\n",
       "   'answer_alias': []}],\n",
       " 'new_single_hops': [{'question': 'What is the country of citizenship of Jonas Kazlauskas?',\n",
       "   'cloze': 'Jonas Kazlauskas is a citizen of',\n",
       "   'answer': 'Lithuania',\n",
       "   'answer_alias': ['LTU',\n",
       "    'LT',\n",
       "    'Lietuva',\n",
       "    'Lietuvos Respublika',\n",
       "    '🇱🇹',\n",
       "    'Republic of Lithuania']},\n",
       "  {'question': 'What is the name of the current head of the Lithuania government?',\n",
       "   'cloze': 'The name of the current head of the Lithuania government is',\n",
       "   'answer': 'Ingrida Šimonytė',\n",
       "   'answer_alias': ['Ingrida Simonyte']}],\n",
       " 'orig': {'triples': [['Q31554', 'P27', 'Q37'], ['Q37', 'P6', 'Q1797508']],\n",
       "  'triples_labeled': [['Jonas Kazlauskas',\n",
       "    'country of citizenship',\n",
       "    'Lithuania'],\n",
       "   ['Lithuania', 'head of government', 'Saulius Skvernelis']],\n",
       "  'new_triples': [['Q31554', 'P27', 'Q37'], ['Q37', 'P6', 'Q437096']],\n",
       "  'new_triples_labeled': [['Jonas Kazlauskas',\n",
       "    'country of citizenship',\n",
       "    'Lithuania'],\n",
       "   ['Lithuania', 'head of government', 'Ingrida Šimonytė']],\n",
       "  'edit_triples': [['Q37', 'P6', 'Q437096']],\n",
       "  'edit_triples_idx': [1]}}"
      ]
     },
     "execution_count": 64,
     "metadata": {},
     "output_type": "execute_result"
    }
   ],
   "source": [
    "data[400]"
   ]
  },
  {
   "cell_type": "code",
   "execution_count": null,
   "metadata": {},
   "outputs": [],
   "source": []
  }
 ],
 "metadata": {
  "kernelspec": {
   "display_name": "cot-transparency",
   "language": "python",
   "name": "python3"
  },
  "language_info": {
   "codemirror_mode": {
    "name": "ipython",
    "version": 3
   },
   "file_extension": ".py",
   "mimetype": "text/x-python",
   "name": "python",
   "nbconvert_exporter": "python",
   "pygments_lexer": "ipython3",
   "version": "3.9.16"
  },
  "orig_nbformat": 4
 },
 "nbformat": 4,
 "nbformat_minor": 2
}
